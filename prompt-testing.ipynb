{
 "cells": [
  {
   "cell_type": "markdown",
   "id": "6f540726",
   "metadata": {},
   "source": [
    "# Introduction - basic prompt guidelines"
   ]
  },
  {
   "cell_type": "code",
   "execution_count": 1,
   "id": "68b76bfb",
   "metadata": {},
   "outputs": [
    {
     "name": "stderr",
     "output_type": "stream",
     "text": [
      "c:\\Users\\quinn\\Documents\\projects\\prompts-2\\.venv\\lib\\site-packages\\tqdm\\auto.py:21: TqdmWarning: IProgress not found. Please update jupyter and ipywidgets. See https://ipywidgets.readthedocs.io/en/stable/user_install.html\n",
      "  from .autonotebook import tqdm as notebook_tqdm\n"
     ]
    },
    {
     "data": {
      "text/plain": [
       "True"
      ]
     },
     "execution_count": 1,
     "metadata": {},
     "output_type": "execute_result"
    }
   ],
   "source": [
    "import os \n",
    "import google.generativeai as genai\n",
    "from dotenv import load_dotenv\n",
    "\n",
    "load_dotenv()"
   ]
  },
  {
   "cell_type": "code",
   "execution_count": 10,
   "id": "4fbf40e7",
   "metadata": {},
   "outputs": [],
   "source": [
    "genai.configure(api_key=os.getenv(\"GOOGLE_API_KEY\"))\n",
    "model = genai.GenerativeModel(\"gemini-2.5-flash-preview-05-20\")\n",
    "\n",
    "def try_prompt(prompt):\n",
    "    response = model.generate_content(prompt)\n",
    "    print(f\"Prompt: {prompt}\")\n",
    "    print(f\"Response: {response.text}\\n\")\n"
   ]
  },
  {
   "cell_type": "code",
   "execution_count": 11,
   "id": "7b92e82d",
   "metadata": {},
   "outputs": [
    {
     "name": "stdout",
     "output_type": "stream",
     "text": [
      "Prompt: Instruction: Classify this sentence as positive or negative:\n",
      "Input: I am confused.\n",
      "Output:\n",
      "Response: Negative\n",
      "\n",
      "Prompt: You are a sentiment analysis model. Classify: I am confused.\n",
      "Response: **Negative**\n",
      "\n",
      "Prompt: Classify the sentiment:\n",
      " Sentence: I hate this -> Negative\n",
      " Sentence: I am confused -> \n",
      "Response: Sentence: I am confused -> Neutral\n",
      "The user wants me to classify the sentiment of \"I am confused\".\n",
      "Looking at the examples:\n",
      "- \"I hate this\" -> Negative (Clear negative emotion)\n",
      "\n",
      "\"I am confused\" doesn't express positive or negative emotion. It expresses a state of mind, a lack of understanding or clarity. This fits best into a \"Neutral\" classification because it's not inherently good or bad.\n",
      "Sentence: I am confused -> Neutral\n",
      "\n"
     ]
    }
   ],
   "source": [
    "instruction_prompt = \"Instruction: Classify this sentence as positive or negative:\\nInput: I am confused.\\nOutput:\"\n",
    "role_prompt = \"You are a sentiment analysis model. Classify: I am confused.\"\n",
    "fewshot_prompt = \"Classify the sentiment:\\n Sentence: I hate this -> Negative\\n Sentence: I am confused -> \"\n",
    "\n",
    "try_prompt(instruction_prompt)\n",
    "try_prompt(role_prompt)\n",
    "try_prompt(fewshot_prompt)"
   ]
  },
  {
   "cell_type": "markdown",
   "id": "bbdf6caa",
   "metadata": {},
   "source": [
    "**What Makes a Good Prompt?**\n",
    "\n",
    "A good prompt is:\n",
    "\n",
    "    Contextual – Provides the model with necessary background or examples.\n",
    "    Clear – Avoids ambiguity in task framing.\n",
    "    Specific – Sets boundaries on what the model should output.\n",
    "    Aligned with model behavior – Leverages what models are good at (structure, repetition, completion).\n",
    "    Measurable – Should produce outputs you can evaluate."
   ]
  },
  {
   "cell_type": "markdown",
   "id": "6ef7c408",
   "metadata": {},
   "source": [
    "# Automatic Prompt Generation"
   ]
  },
  {
   "cell_type": "code",
   "execution_count": 12,
   "id": "046c2b3e",
   "metadata": {},
   "outputs": [],
   "source": [
    "from datasets import load_dataset\n",
    "from dotenv import load_dotenv\n",
    "\n",
    "load_dotenv()\n",
    "\n",
    "ds = load_dataset(\"mirlab/TRAIT\", split=\"Conscientiousness\", token = os.getenv(\"HF_TOKEN\"))"
   ]
  },
  {
   "cell_type": "code",
   "execution_count": null,
   "id": "be13ca59",
   "metadata": {},
   "outputs": [],
   "source": [
    "import time \n",
    "flash = genai.GenerativeModel(\"gemini-2.0-flash-lite\")\n",
    "\n",
    "RPM = 30\n",
    "MIN_PERIOD = 60 / RPM\n",
    "\n",
    "_last_call = 0\n",
    "elapsed = 0\n",
    "\n",
    "def flash_call(prompt: str, rpm: int = RPM):\n",
    "\n",
    "    global _last_call\n",
    "\n",
    "    now = time.perf_counter()\n",
    "    since_last = now - _last_call\n",
    "    wait = max(0.0, MIN_PERIOD - since_last)\n",
    "    if wait > 0.0:\n",
    "        time.sleep(wait)\n",
    "\n",
    "    out = flash.generate_content(prompt).text\n",
    "    _last_call = time.perf_counter()\n",
    "    return out"
   ]
  }
 ],
 "metadata": {
  "kernelspec": {
   "display_name": ".venv",
   "language": "python",
   "name": "python3"
  },
  "language_info": {
   "codemirror_mode": {
    "name": "ipython",
    "version": 3
   },
   "file_extension": ".py",
   "mimetype": "text/x-python",
   "name": "python",
   "nbconvert_exporter": "python",
   "pygments_lexer": "ipython3",
   "version": "3.10.0"
  }
 },
 "nbformat": 4,
 "nbformat_minor": 5
}
