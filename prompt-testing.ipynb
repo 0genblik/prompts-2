{
 "cells": [
  {
   "cell_type": "markdown",
   "id": "6f540726",
   "metadata": {},
   "source": [
    "# Introduction - basic prompt guidelines"
   ]
  },
  {
   "cell_type": "code",
   "execution_count": 1,
   "id": "68b76bfb",
   "metadata": {},
   "outputs": [
    {
     "name": "stderr",
     "output_type": "stream",
     "text": [
      "c:\\Users\\quinn\\Documents\\projects\\prompts-2\\.venv\\lib\\site-packages\\tqdm\\auto.py:21: TqdmWarning: IProgress not found. Please update jupyter and ipywidgets. See https://ipywidgets.readthedocs.io/en/stable/user_install.html\n",
      "  from .autonotebook import tqdm as notebook_tqdm\n"
     ]
    },
    {
     "data": {
      "text/plain": [
       "True"
      ]
     },
     "execution_count": 1,
     "metadata": {},
     "output_type": "execute_result"
    }
   ],
   "source": [
    "import os \n",
    "import google.generativeai as genai\n",
    "from dotenv import load_dotenv\n",
    "\n",
    "load_dotenv()"
   ]
  },
  {
   "cell_type": "code",
   "execution_count": 3,
   "id": "4fbf40e7",
   "metadata": {},
   "outputs": [],
   "source": [
    "genai.configure(api_key=os.getenv(\"GOOGLE_API_KEY\"))\n",
    "model = genai.GenerativeModel(\"gemini-1.5-flash\")\n",
    "\n",
    "def try_prompt(prompt):\n",
    "    response = model.generate_content(prompt)\n",
    "    print(f\"Prompt: {prompt}\")\n",
    "    print(f\"Response: {response.text}\\n\")\n"
   ]
  },
  {
   "cell_type": "code",
   "execution_count": 7,
   "id": "7b92e82d",
   "metadata": {},
   "outputs": [
    {
     "name": "stdout",
     "output_type": "stream",
     "text": [
      "Prompt: Instruction: Classify this sentence as positive or negative:\n",
      "Input: I am confused.\n",
      "Output:\n",
      "Response: Negative\n",
      "\n",
      "\n",
      "Prompt: You are a sentiment analysis model. Classify: I am confused.\n",
      "Response: Negative.  \"Confused\" expresses a negative emotional state.\n",
      "\n",
      "\n",
      "Prompt: Classify the sentiment:\n",
      " Sentence: I hate this -> Negative\n",
      " Sentence: I am confused -> \n",
      "Response: Negative\n",
      "\n",
      "\n"
     ]
    }
   ],
   "source": [
    "instruction_prompt = \"Instruction: Classify this sentence as positive or negative:\\nInput: I am confused.\\nOutput:\"\n",
    "role_prompt = \"You are a sentiment analysis model. Classify: I am confused.\"\n",
    "fewshot_prompt = \"Classify the sentiment:\\n Sentence: I hate this -> Negative\\n Sentence: I am confused -> \"\n",
    "\n",
    "try_prompt(instruction_prompt)\n",
    "try_prompt(role_prompt)\n",
    "try_prompt(fewshot_prompt)"
   ]
  },
  {
   "cell_type": "markdown",
   "id": "bbdf6caa",
   "metadata": {},
   "source": [
    "**What Makes a Good Prompt?**\n",
    "\n",
    "A good prompt is:\n",
    "\n",
    "    Contextual – Provides the model with necessary background or examples.\n",
    "    Clear – Avoids ambiguity in task framing.\n",
    "    Specific – Sets boundaries on what the model should output.\n",
    "    Aligned with model behavior – Leverages what models are good at (structure, repetition, completion).\n",
    "    Measurable – Should produce outputs you can evaluate."
   ]
  }
 ],
 "metadata": {
  "kernelspec": {
   "display_name": ".venv",
   "language": "python",
   "name": "python3"
  },
  "language_info": {
   "codemirror_mode": {
    "name": "ipython",
    "version": 3
   },
   "file_extension": ".py",
   "mimetype": "text/x-python",
   "name": "python",
   "nbconvert_exporter": "python",
   "pygments_lexer": "ipython3",
   "version": "3.10.0"
  }
 },
 "nbformat": 4,
 "nbformat_minor": 5
}
